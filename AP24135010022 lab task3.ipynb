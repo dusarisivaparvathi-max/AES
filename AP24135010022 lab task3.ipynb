{
 "cells": [
  {
   "cell_type": "markdown",
   "id": "edab3171-8990-45d8-99a4-6ebff1152635",
   "metadata": {},
   "source": [
    "1.Implementation of RSA Algorithm."
   ]
  },
  {
   "cell_type": "code",
   "execution_count": 1,
   "id": "033bcff7-2a91-4621-a6ac-6b555cd3f24c",
   "metadata": {},
   "outputs": [
    {
     "name": "stdout",
     "output_type": "stream",
     "text": [
      "Public Key: (e=17, n=3233)\n",
      "Private Key: (d=2753, n=3233)\n",
      "Original Message: 65\n",
      "Encrypted Message: 2790\n",
      "Decrypted Message: 65\n"
     ]
    }
   ],
   "source": [
    "import math\n",
    "def gcd(a, b):\n",
    "    while b != 0:\n",
    "        a, b = b, a % b\n",
    "    return a\n",
    "def mod_inverse(e, phi):\n",
    "    for d in range(2, phi):\n",
    "        if (d * e) % phi == 1:\n",
    "            return d\n",
    "    return -1\n",
    "\n",
    "def rsa():\n",
    "  \n",
    "    p = 61\n",
    "    q = 53\n",
    "    n = p * q\n",
    "    phi = (p - 1) * (q - 1)\n",
    "\n",
    "    e = 17\n",
    "\n",
    "    d = mod_inverse(e, phi)\n",
    "\n",
    "    print(f\"Public Key: (e={e}, n={n})\")\n",
    "    print(f\"Private Key: (d={d}, n={n})\")\n",
    "\n",
    "    message = 65\n",
    "    cipher = pow(message, e, n)\n",
    "    print(f\"Original Message: {message}\")\n",
    "    print(f\"Encrypted Message: {cipher}\")\n",
    "\n",
    "    decrypted = pow(cipher, d, n)\n",
    "    print(f\"Decrypted Message: {decrypted}\")\n",
    "\n",
    "rsa()\n"
   ]
  },
  {
   "cell_type": "markdown",
   "id": "41ed6880-7714-4f54-bf5c-d6f2d9d37d4f",
   "metadata": {},
   "source": [
    "2.Implementation of RSA-based signature system."
   ]
  },
  {
   "cell_type": "code",
   "execution_count": 2,
   "id": "a9866f0c-cd74-41d6-b81d-acc664324a7e",
   "metadata": {},
   "outputs": [
    {
     "name": "stdout",
     "output_type": "stream",
     "text": [
      "Public Key: (e=17, n=3233)\n",
      "Private Key: (d=2753, n=3233)\n",
      "Message: 123\n",
      "Signature: 2746\n",
      "Verified Message: 123\n",
      "✅ Signature is valid.\n"
     ]
    }
   ],
   "source": [
    "\n",
    "def rsa_signature():\n",
    "    p = 61\n",
    "    q = 53\n",
    "    n = p * q\n",
    "    phi = (p - 1) * (q - 1)\n",
    "    e = 17\n",
    "    d = pow(e, -1, phi)  \n",
    "\n",
    "    print(f\"Public Key: (e={e}, n={n})\")\n",
    "    print(f\"Private Key: (d={d}, n={n})\")\n",
    "\n",
    "    message = 123\n",
    "    signature = pow(message, d, n)  # Sign with private key\n",
    "    print(f\"Message: {message}\")\n",
    "    print(f\"Signature: {signature}\")\n",
    "\n",
    "    verified = pow(signature, e, n)\n",
    "    print(f\"Verified Message: {verified}\")\n",
    "\n",
    "    if verified == message:\n",
    "        print(\"✅ Signature is valid.\")\n",
    "    else:\n",
    "        print(\"❌ Signature is not valid.\")\n",
    "\n",
    "rsa_signature()\n"
   ]
  },
  {
   "cell_type": "code",
   "execution_count": null,
   "id": "7dc2b0a9-816f-4572-ac07-6f6140c453b2",
   "metadata": {},
   "outputs": [],
   "source": []
  }
 ],
 "metadata": {
  "kernelspec": {
   "display_name": "Python 3 (ipykernel)",
   "language": "python",
   "name": "python3"
  },
  "language_info": {
   "codemirror_mode": {
    "name": "ipython",
    "version": 3
   },
   "file_extension": ".py",
   "mimetype": "text/x-python",
   "name": "python",
   "nbconvert_exporter": "python",
   "pygments_lexer": "ipython3",
   "version": "3.13.5"
  }
 },
 "nbformat": 4,
 "nbformat_minor": 5
}

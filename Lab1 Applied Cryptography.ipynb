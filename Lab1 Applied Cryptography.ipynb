{
 "cells": [
  {
   "cell_type": "code",
   "execution_count": 13,
   "id": "800dff6c-bea0-4cdb-8205-25a9ded0e09f",
   "metadata": {},
   "outputs": [
    {
     "name": "stdout",
     "output_type": "stream",
     "text": [
      "Requirement already satisfied: pycryptodome in c:\\users\\hp\\anaconda3\\lib\\site-packages (3.23.0)\n",
      "Ciphertext: b'\\t\\xb8\\x92\\xb6\\xe2]\\x96\\xfe\\x07'\n",
      "Recovered: b'Hello AES'\n"
     ]
    }
   ],
   "source": [
    "!pip install pycryptodome\n",
    "from Crypto.Cipher import AES\n",
    "from Crypto.Random import get_random_bytes\n",
    "key = get_random_bytes(16)\n",
    "iv = get_random_bytes(16)\n",
    "cipher = AES.new(key, AES.MODE_CFB, iv)\n",
    "plaintext = b\"Hello AES\"\n",
    "ciphertext = cipher.encrypt(plaintext)\n",
    "print(\"Ciphertext:\",ciphertext)\n",
    "decipher = AES.new(key, AES.MODE_CFB,iv)\n",
    "recovered = decipher . decrypt(ciphertext)\n",
    "print(\"Recovered:\", recovered)"
   ]
  },
  {
   "cell_type": "code",
   "execution_count": 12,
   "id": "580ba3b4-8637-4a75-af0e-f5e93587d19f",
   "metadata": {},
   "outputs": [
    {
     "name": "stdout",
     "output_type": "stream",
     "text": [
      "Ciphertext: a553be70ed8484e506\n",
      "Recovered text: Hello RC4\n"
     ]
    }
   ],
   "source": [
    "def rc4(key: bytes, data: bytes) -> bytes:\n",
    "    s = list(range(256))\n",
    "    j = 0\n",
    "    for i in range(256):\n",
    "        j = (j + s[i] + key[i%len(key)]) % 256\n",
    "        s[i], s[j] = s[j], s[i]\n",
    "    i = j = 0\n",
    "    result = bytearray()\n",
    "    for byte in data:\n",
    "        i = (i + 1) % 256\n",
    "        j = (j + s[i]) % 256\n",
    "        s[i], s[j] = s[j], s[i]\n",
    "        k = s[(s[i] + s[j]) % 256]\n",
    "        result.append(byte ^ k)\n",
    "    return bytes(result)\n",
    "\n",
    "key = b\"secret\"\n",
    "plaintext = b\"Hello RC4\"\n",
    "ciphertext = rc4(key, plaintext)\n",
    "print(\"Ciphertext:\", ciphertext.hex())\n",
    "recovered = rc4(key, ciphertext)\n",
    "print(\"Recovered text:\", recovered.decode())"
   ]
  }
 ],
 "metadata": {
  "kernelspec": {
   "display_name": "Python 3 (ipykernel)",
   "language": "python",
   "name": "python3"
  },
  "language_info": {
   "codemirror_mode": {
    "name": "ipython",
    "version": 3
   },
   "file_extension": ".py",
   "mimetype": "text/x-python",
   "name": "python",
   "nbconvert_exporter": "python",
   "pygments_lexer": "ipython3",
   "version": "3.13.5"
  }
 },
 "nbformat": 4,
 "nbformat_minor": 5
}
